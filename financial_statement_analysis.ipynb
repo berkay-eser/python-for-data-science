{
 "cells": [
  {
   "cell_type": "code",
   "execution_count": 1,
   "metadata": {},
   "outputs": [],
   "source": [
    "import numpy as np"
   ]
  },
  {
   "cell_type": "code",
   "execution_count": 2,
   "metadata": {
    "collapsed": true
   },
   "outputs": [],
   "source": [
    "#Data \n",
    "revenue = [14574.49, 7606.46, 8611.41, 9175.41, 8058.65, 8105.44, 11496.28, 9766.09, 10305.32, 14379.96, 10713.97, 15433.50]\n",
    "expenses = [12051.82, 5695.07, 12319.20, 12089.72, 8658.57, 840.20, 3285.73, 5821.12, 6976.93, 16618.61, 10054.37, 3803.96]"
   ]
  },
  {
   "cell_type": "code",
   "execution_count": 27,
   "metadata": {},
   "outputs": [
    {
     "data": {
      "text/plain": [
       "[2523, 1911, -3708, -2914, -600, 7265, 8211, 3945, 3328, -2239, 660, 11630]"
      ]
     },
     "execution_count": 27,
     "metadata": {},
     "output_type": "execute_result"
    }
   ],
   "source": [
    "# Profit for each month\n",
    "profit = []\n",
    "for index in range(0,len(revenue)):\n",
    "    profit.append(round(revenue[index] - expenses[index]))\n",
    "  \n",
    "profit"
   ]
  },
  {
   "cell_type": "code",
   "execution_count": 36,
   "metadata": {},
   "outputs": [
    {
     "data": {
      "text/plain": [
       "[1766, 1338, -2596, -2040, -420, 5086, 5748, 2762, 2330, -1567, 462, 8141]"
      ]
     },
     "execution_count": 36,
     "metadata": {},
     "output_type": "execute_result"
    }
   ],
   "source": [
    "# Profit after tax for each month\n",
    "\n",
    "profit_after_tax = []\n",
    "for i in range(0, len(profit)):\n",
    "    profit_after_tax.append(round(profit[i] * 0.7))\n",
    "\n",
    "profit_after_tax"
   ]
  },
  {
   "cell_type": "code",
   "execution_count": 37,
   "metadata": {},
   "outputs": [
    {
     "data": {
      "text/plain": [
       "[0.12, 0.18, -0.3, -0.22, -0.05, 0.63, 0.5, 0.28, 0.23, -0.11, 0.04, 0.53]"
      ]
     },
     "execution_count": 37,
     "metadata": {},
     "output_type": "execute_result"
    }
   ],
   "source": [
    "#profit margin for each month\n",
    "profit_margin = []\n",
    "\n",
    "for i in range(0, len(revenue)):\n",
    "    profit_margin.append(round(profit_after_tax[i] / revenue[i], 2))\n",
    "\n",
    "profit_margin"
   ]
  },
  {
   "cell_type": "code",
   "execution_count": 38,
   "metadata": {},
   "outputs": [
    {
     "data": {
      "text/plain": [
       "[1, 6, 7, 8, 9, 12]"
      ]
     },
     "execution_count": 38,
     "metadata": {},
     "output_type": "execute_result"
    }
   ],
   "source": [
    "#good months - profit after tax greater than mean of the year\n",
    "profit_after_tax_array = np.array(profit_after_tax)\n",
    "good_months = []\n",
    "\n",
    "for i in range(0,len(profit_after_tax_array)):\n",
    "    if profit_after_tax_array[i] > profit_after_tax_array.mean():\n",
    "        good_months.append(i + 1)\n",
    "\n",
    "good_months"
   ]
  },
  {
   "cell_type": "code",
   "execution_count": 39,
   "metadata": {},
   "outputs": [
    {
     "data": {
      "text/plain": [
       "[2, 3, 4, 5, 10, 11]"
      ]
     },
     "execution_count": 39,
     "metadata": {},
     "output_type": "execute_result"
    }
   ],
   "source": [
    "#bad months - profit after tax less than mean of the year\n",
    "bad_months = []\n",
    "\n",
    "for i in range(0,len(profit_after_tax_array)):\n",
    "    if profit_after_tax_array[i] < profit_after_tax_array.mean():\n",
    "        bad_months.append(i + 1)\n",
    "\n",
    "bad_months"
   ]
  },
  {
   "cell_type": "code",
   "execution_count": 40,
   "metadata": {},
   "outputs": [],
   "source": [
    "#the best month - profit after tax max for the year\n",
    "best_month = profit_after_tax_array.argmax() + 1"
   ]
  },
  {
   "cell_type": "code",
   "execution_count": 41,
   "metadata": {},
   "outputs": [],
   "source": [
    "#the worst month - profit after tax min for the year\n",
    "worst_month = profit_after_tax_array.argmin() + 1"
   ]
  },
  {
   "cell_type": "code",
   "execution_count": 45,
   "metadata": {},
   "outputs": [
    {
     "name": "stdout",
     "output_type": "stream",
     "text": [
      "Profit for each month: [2523, 1911, -3708, -2914, -600, 7265, 8211, 3945, 3328, -2239, 660, 11630]\n",
      "Profit after tax for each month:  [1766, 1338, -2596, -2040, -420, 5086, 5748, 2762, 2330, -1567, 462, 8141]\n",
      "Profit margin for each month:  [0.12, 0.18, -0.3, -0.22, -0.05, 0.63, 0.5, 0.28, 0.23, -0.11, 0.04, 0.53]\n",
      "Good Months:  [1, 6, 7, 8, 9, 12]\n",
      "Bad Months:  [2, 3, 4, 5, 10, 11]\n",
      "Best Month:  12\n",
      "Worst Month:  3\n"
     ]
    }
   ],
   "source": [
    "print('Profit for each month:',profit)\n",
    "print('Profit after tax for each month: ',profit_after_tax)\n",
    "print('Profit margin for each month: ', profit_margin)\n",
    "print('Good Months: ', good_months)\n",
    "print('Bad Months: ', bad_months)\n",
    "print('Best Month: ', best_month)\n",
    "print('Worst Month: ',worst_month)"
   ]
  }
 ],
 "metadata": {
  "kernelspec": {
   "display_name": "Python 3",
   "language": "python",
   "name": "python3"
  },
  "language_info": {
   "codemirror_mode": {
    "name": "ipython",
    "version": 3
   },
   "file_extension": ".py",
   "mimetype": "text/x-python",
   "name": "python",
   "nbconvert_exporter": "python",
   "pygments_lexer": "ipython3",
   "version": "3.11.4"
  }
 },
 "nbformat": 4,
 "nbformat_minor": 1
}
