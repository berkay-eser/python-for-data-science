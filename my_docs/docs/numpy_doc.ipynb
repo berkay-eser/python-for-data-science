{
 "cells": [
  {
   "cell_type": "code",
   "execution_count": 1,
   "metadata": {},
   "outputs": [],
   "source": [
    "import numpy as np"
   ]
  },
  {
   "cell_type": "markdown",
   "metadata": {},
   "source": [
    "### Array Creation"
   ]
  },
  {
   "cell_type": "code",
   "execution_count": 6,
   "metadata": {},
   "outputs": [
    {
     "name": "stdout",
     "output_type": "stream",
     "text": [
      "[[0.31506057 0.25743709 0.07700204 0.67604132]\n",
      " [0.95381703 0.91689759 0.95048137 0.13733218]\n",
      " [0.68061844 0.88479269 0.42467785 0.36658646]]\n"
     ]
    }
   ],
   "source": [
    "list = [1,2,3,4,5]\n",
    "\n",
    "# Create array from a list\n",
    "array = np.array(list) \n",
    "\n",
    "# Create an array from zeros. We can use array of zeros in matrix operations, image processing, padding(CNN)\n",
    "zeros_array = np.zeros(4)\n",
    "zeros_array_2d = np.zeros((3,4)) # 3 rows 4 columns\n",
    "\n",
    "# Create an array from ones\n",
    "ones_array = np.ones(4)\n",
    "\n",
    "# Create an array with values within a specified interval\n",
    "arange_array = np.arange(5) # array([0, 1, 2, 3, 4])\n",
    "arange_array = np.arange(1, 9, 2) # array([1, 3, 5, 7])\n",
    "\n",
    "# Create an array with random numbers\n",
    "random_array = np.random.rand(3,4)\n",
    "\n",
    "# Create an array wtih full of specified number\n",
    "full_array = np.full((2,2),6) # first parameter is dimensions, second parameter is value\n",
    "\n",
    "# Create an empty array\n",
    "empty_array = np.empty(4)\n",
    "empty_array = np.empty((2,2))\n",
    "# Note: The difference between np.zeros and np.empty, np.empty does not initializes the memory but np.zeros does.\n",
    "\n",
    "# Create an array with a defined data dtype\n",
    "array1 = np.array([1,2,6], dtype='int64')"
   ]
  },
  {
   "cell_type": "markdown",
   "metadata": {},
   "source": [
    "### NumPy Data Type Conversion"
   ]
  },
  {
   "cell_type": "code",
   "execution_count": 4,
   "metadata": {},
   "outputs": [],
   "source": [
    "int_array = np.array([1,2,3,4,5])\n",
    "\n",
    "# convert data type of int_array to float\n",
    "float_array = int_array.astype('float')"
   ]
  },
  {
   "cell_type": "markdown",
   "metadata": {},
   "source": [
    "### NumPy Array Attiributes"
   ]
  },
  {
   "cell_type": "code",
   "execution_count": 6,
   "metadata": {},
   "outputs": [
    {
     "data": {
      "text/plain": [
       "dtype('int64')"
      ]
     },
     "execution_count": 6,
     "metadata": {},
     "output_type": "execute_result"
    }
   ],
   "source": [
    "array = np.array([[1,2,3],[3,4,5]])\n",
    "\n",
    "# The ndim attiribute returns the number of dimension\n",
    "array.ndim # output: 2\n",
    "\n",
    "# The size attribute returns the total number of elements\n",
    "array.size # output: 6\n",
    "\n",
    "# The shape attiribute returns a tuple that gives size of array in each dimension\n",
    "array.shape # output: (2,3) -> tuple\n",
    "\n",
    "# The dtype attiribute returns the datatype\n",
    "array.dtype # output 'int64'"
   ]
  },
  {
   "cell_type": "markdown",
   "metadata": {},
   "source": [
    "### NumPy Array Indexing and Slicing"
   ]
  },
  {
   "cell_type": "code",
   "execution_count": 10,
   "metadata": {},
   "outputs": [
    {
     "data": {
      "text/plain": [
       "array([2, 5, 1, 7, 2, 4, 8, 9])"
      ]
     },
     "execution_count": 10,
     "metadata": {},
     "output_type": "execute_result"
    }
   ],
   "source": [
    "array = np.array([2,5,1,7,2,4,8,9])\n",
    "# array[start:stop:step]\n",
    "\n",
    "array[2:6] # from index 2 to 6 -> [1, 7, 2, 4]\n",
    "array[2:6:2] # from index 2 to 6 with 2 steps -> [1, 2]\n",
    "array[3:] # from index 3 to end -> [7, 2, 4, 8, 9]\n",
    "array[:] # from start to end ->[2, 5, 1, 7, 2, 4, 8, 9]\n",
    "\n",
    "# MODIFY ARRAY ELEMNTS USING SLICING\n",
    "numbers = np.array([2, 4, 6, 8, 10, 12])\n",
    "\n",
    "numbers[3:] = 20 # modify elements from index 3 onwards -> [2,4,6,20,20,20]\n",
    "numbers[:3] = 20 # modify the first three elements -> [20,20,20,8,10,12]\n",
    "numbers[2:5] = 22 # modify elements from indices 2 to 5 -> [2,4,22,22,22,12]"
   ]
  },
  {
   "cell_type": "markdown",
   "metadata": {},
   "source": [
    "### NumPy Array Reshaping"
   ]
  },
  {
   "cell_type": "code",
   "execution_count": 18,
   "metadata": {},
   "outputs": [
    {
     "data": {
      "text/plain": [
       "array([ 1,  3,  5,  7,  9, 11])"
      ]
     },
     "execution_count": 18,
     "metadata": {},
     "output_type": "execute_result"
    }
   ],
   "source": [
    "array = np.array([1, 3, 5, 7, 2, 4, 6, 8])\n",
    "\n",
    "# np.reshape(array, newshape, order = 'C') order is optional\n",
    "\n",
    "# Reshape 1D Array to 2D Array\n",
    "result = np.reshape(array,(4,2))\n",
    "\n",
    "# array([[1, 3],\n",
    "#        [5, 7],\n",
    "#        [2, 4],\n",
    "#        [6, 8]]) \n",
    "\n",
    "# Reshape 1D Array to 3D Array\n",
    "result = np.reshape(array, (2,2,2))\n",
    "\n",
    "# array([[[1, 3],\n",
    "#         [5, 7]],\n",
    "\n",
    "#        [[2, 4],\n",
    "#         [6, 8]]])\n",
    "\n",
    "# Flatten N-d Array to 1-D Array \n",
    "\n",
    "array1 = np.array([[1, 3], [5, 7], [9, 11]])\n",
    "result1 = np.reshape(array1, -1) # [ 1,  3,  5,  7,  9, 11]\n"
   ]
  }
 ],
 "metadata": {
  "kernelspec": {
   "display_name": "Python 3",
   "language": "python",
   "name": "python3"
  },
  "language_info": {
   "codemirror_mode": {
    "name": "ipython",
    "version": 3
   },
   "file_extension": ".py",
   "mimetype": "text/x-python",
   "name": "python",
   "nbconvert_exporter": "python",
   "pygments_lexer": "ipython3",
   "version": "3.11.4"
  },
  "orig_nbformat": 4
 },
 "nbformat": 4,
 "nbformat_minor": 2
}
