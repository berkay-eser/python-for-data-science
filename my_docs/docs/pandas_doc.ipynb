{
 "cells": [
  {
   "cell_type": "code",
   "execution_count": null,
   "metadata": {},
   "outputs": [],
   "source": [
    "import pandas as pd"
   ]
  },
  {
   "cell_type": "markdown",
   "metadata": {},
   "source": [
    "### Create DataFrame\n",
    "\n",
    "Create dataframe with dicts.\n",
    "\n",
    "But more common way to create dataframe is reading files like .csv, .xlsx. df = pd.read_csv('data.csv')"
   ]
  },
  {
   "cell_type": "code",
   "execution_count": 29,
   "metadata": {},
   "outputs": [],
   "source": [
    "df = pd.DataFrame({\n",
    "    'day':['1/1/2017','1/2/2017','1/3/2017','1/4/2017','1/1/2017','1/2/2017','1/3/2017','1/4/2017','1/1/2017','1/2/2017','1/3/2017','1/4/2018','1/4/2018'],\n",
    "    'city':['new york','new york','new york','new york','mumbai','mumbai','mumbai','mumbai','paris','paris','paris','paris','paris'],\n",
    "    'temperature':[32,36,28,33,90,85,87,92,45,50,54,42,53],\n",
    "    'windspeed':[6,7,12,7,5,12,15,5,20,13,8,10,12],\n",
    "    'event':['rain','sunny','snow','sunny','sunny','fog','fog','rain','sunny','cloudy','cloudy','cloudy','sunny']\n",
    "    })"
   ]
  },
  {
   "cell_type": "markdown",
   "metadata": {},
   "source": [
    "### Basic informations about dataset\n",
    "\n",
    "- <ins>info():</ins> The index dtype and columns, non-null values and memory usage about dataframe\n",
    "- <ins>describe():</ins> Generate descriptive statistics.\n",
    "- <ins>shape():</ins> Shape of dataframe.\n",
    "- <ins>head(n):</ins> First n rows of dataframe(deafult 5)\n",
    "- <ins>tail(n):</ins> Last n rows of dataframe(default 5)\n",
    "- <ins>columns:</ins> Return array of column names"
   ]
  },
  {
   "cell_type": "markdown",
   "metadata": {},
   "source": [
    "### Drop columns"
   ]
  },
  {
   "cell_type": "code",
   "execution_count": null,
   "metadata": {},
   "outputs": [],
   "source": [
    "df.drop(columns=['windspeed','city']) # or df.drop(['windspeed','city'], axis=1)"
   ]
  },
  {
   "cell_type": "markdown",
   "metadata": {},
   "source": [
    "### Drop rows"
   ]
  },
  {
   "cell_type": "code",
   "execution_count": null,
   "metadata": {},
   "outputs": [],
   "source": [
    "df.drop(df.index[3:5]) # Drop third and fourth row"
   ]
  },
  {
   "cell_type": "markdown",
   "metadata": {},
   "source": [
    "### Select data types\n",
    "\n",
    "Returns a dataframe which have selected data type columns"
   ]
  },
  {
   "cell_type": "code",
   "execution_count": null,
   "metadata": {},
   "outputs": [],
   "source": [
    "df.select_dtypes('int64')"
   ]
  },
  {
   "cell_type": "markdown",
   "metadata": {},
   "source": [
    "### Insert a column to dataframe"
   ]
  },
  {
   "cell_type": "code",
   "execution_count": null,
   "metadata": {},
   "outputs": [],
   "source": [
    "random_col = [1,2,3,4,5,6,7,8,9,10,11,12]\n",
    "df.insert(3 ,'random column', random_col) # df.insert(position, name, data)"
   ]
  },
  {
   "cell_type": "markdown",
   "metadata": {},
   "source": [
    "### Take sample from dataframe\n",
    "\n",
    "It is usefull when the dataset is so big and time consuming"
   ]
  },
  {
   "cell_type": "code",
   "execution_count": null,
   "metadata": {},
   "outputs": [],
   "source": [
    "sample1_df = df.sample(n=5) # taking 5 data points as sample\n",
    "sample2_df = df.sample(frac=0.25) # taking %25 percent of dataframe as sample"
   ]
  },
  {
   "cell_type": "markdown",
   "metadata": {},
   "source": [
    "### Rename column or columns\n",
    "\n",
    "usefull when the dataset column names have blank between"
   ]
  },
  {
   "cell_type": "code",
   "execution_count": null,
   "metadata": {},
   "outputs": [],
   "source": [
    "df.rename(columns={'day':'date','city':'province'})"
   ]
  },
  {
   "cell_type": "markdown",
   "metadata": {},
   "source": [
    "### Replace values"
   ]
  },
  {
   "cell_type": "code",
   "execution_count": null,
   "metadata": {},
   "outputs": [],
   "source": [
    "df['city'].replace('new york','New York',inplace=True) # Replace values in a series\n",
    "df.replace(6, 7) # Replace values in dataframe"
   ]
  },
  {
   "cell_type": "markdown",
   "metadata": {},
   "source": [
    "### Create Summary Dataframe\n",
    "\n",
    "Self made function. It return a dataframe which include basic information about passed dataframe. Can be improved in need."
   ]
  },
  {
   "cell_type": "code",
   "execution_count": 30,
   "metadata": {},
   "outputs": [],
   "source": [
    "from numpy import nan\n",
    "\n",
    "def summary_of_df(df):\n",
    "    summary_data = []\n",
    "    num_samples = 3\n",
    "    for column in df.columns:\n",
    "        count = df[column].count()\n",
    "        null_count = df[column].isna().sum()\n",
    "        not_null_count = df[column].notnull().sum()\n",
    "        unique_count = df[column].nunique()\n",
    "        data_type = df[column].dtype\n",
    "        min_value = df[column].min() if pd.api.types.is_numeric_dtype(data_type) else nan\n",
    "        max_value = df[column].max() if pd.api.types.is_numeric_dtype(data_type) else nan\n",
    "        mean = df[column].mean() if pd.api.types.is_numeric_dtype(data_type) else nan\n",
    "        std_dev = df[column].std() if pd.api.types.is_numeric_dtype(data_type) else nan\n",
    "        mode = df[column].mode()[0] if pd.api.types.is_object_dtype(data_type) else nan\n",
    "        mode_freq = df[column].value_counts().max() if pd.api.types.is_object_dtype(data_type) else nan\n",
    "        sample_values = df[column].sample(num_samples).tolist()\n",
    "        \n",
    "        summary_data.append([column, count, not_null_count, null_count, unique_count, data_type, min_value,\n",
    "                             max_value, mean, std_dev, mode, mode_freq, sample_values])\n",
    "    \n",
    "    columns = ['column','count','not_nan_count','nan_count','unique_count','dtype',\n",
    "               'min','max','mean','std_dev','mode','mode_freq','sample_values']\n",
    "    summary_df = pd.DataFrame(summary_data, columns=columns)\n",
    "\n",
    "    return summary_df"
   ]
  },
  {
   "cell_type": "code",
   "execution_count": null,
   "metadata": {},
   "outputs": [],
   "source": [
    "summary_df = summary_of_df(df)\n",
    "summary_df"
   ]
  },
  {
   "cell_type": "markdown",
   "metadata": {},
   "source": [
    "### Format DateTime\n",
    "\n",
    "Formatting date time is important in time series analysis."
   ]
  },
  {
   "cell_type": "code",
   "execution_count": null,
   "metadata": {},
   "outputs": [],
   "source": [
    "df['day'] = pd.to_datetime(df['day'], format='mixed') # format : '%d,%m,%Y' check for other formats"
   ]
  },
  {
   "cell_type": "markdown",
   "metadata": {},
   "source": [
    "### Fill nan values"
   ]
  },
  {
   "cell_type": "code",
   "execution_count": null,
   "metadata": {},
   "outputs": [],
   "source": [
    "df['windspeed'].fillna(df['windspeed'].mean())"
   ]
  },
  {
   "cell_type": "markdown",
   "metadata": {},
   "source": [
    "### Group by"
   ]
  },
  {
   "cell_type": "code",
   "execution_count": null,
   "metadata": {},
   "outputs": [],
   "source": [
    "df.groupby('city')['temperature'].mean()\n",
    "\n",
    "city_group = df.groupby('city')\n",
    "city_group.get_group('new york')"
   ]
  },
  {
   "cell_type": "markdown",
   "metadata": {},
   "source": [
    "### Filter a dataframe\n",
    "\n",
    "Returns a dataframe according to filters"
   ]
  },
  {
   "cell_type": "code",
   "execution_count": null,
   "metadata": {},
   "outputs": [],
   "source": [
    "df[['day','city','event']][(df.event =='sunny') & (df.city == 'new york')]"
   ]
  },
  {
   "cell_type": "markdown",
   "metadata": {},
   "source": [
    "### Aggregations\n",
    "\n",
    "In Pandas, series elements can be aggregated by computing statistical measures such as sum, mean, min, max, and count."
   ]
  },
  {
   "cell_type": "code",
   "execution_count": null,
   "metadata": {},
   "outputs": [],
   "source": [
    "df.groupby('city').agg({'temperature':'mean', 'windspeed':'sum'})"
   ]
  },
  {
   "cell_type": "markdown",
   "metadata": {},
   "source": [
    "### Apply and lambda funtions\n",
    "\n",
    "apply : allow the users to pass a function and apply it on every single value of the Pandas series."
   ]
  },
  {
   "cell_type": "code",
   "execution_count": null,
   "metadata": {},
   "outputs": [],
   "source": [
    "df['temperature_celcius'] = df['temperature'].apply(lambda x: round((x - 32) / (9/5), 1))"
   ]
  },
  {
   "cell_type": "markdown",
   "metadata": {},
   "source": [
    "### Sort Values"
   ]
  },
  {
   "cell_type": "code",
   "execution_count": null,
   "metadata": {},
   "outputs": [],
   "source": [
    "df.sort_values('temperature', ascending=False) # ascending:False is highest to lowest"
   ]
  },
  {
   "cell_type": "markdown",
   "metadata": {},
   "source": [
    "### Query\n",
    "\n",
    "<ins>only works if the column name doesn’t have any empty spaces.</ins>"
   ]
  },
  {
   "cell_type": "code",
   "execution_count": null,
   "metadata": {},
   "outputs": [],
   "source": [
    "df.query('city == \"new york\" and temperature > 28')"
   ]
  },
  {
   "cell_type": "markdown",
   "metadata": {},
   "source": [
    "### Melt Function"
   ]
  },
  {
   "cell_type": "code",
   "execution_count": null,
   "metadata": {},
   "outputs": [],
   "source": [
    "pd.melt(df, id_vars=['day','city'], value_vars=['event'])"
   ]
  },
  {
   "cell_type": "markdown",
   "metadata": {},
   "source": [
    "### Crosstab Function\n",
    "\n",
    "It’s useful for analyzing the relationship between two categorical variables."
   ]
  },
  {
   "cell_type": "code",
   "execution_count": null,
   "metadata": {},
   "outputs": [],
   "source": [
    "pd.crosstab(df['city'], df['event'])"
   ]
  },
  {
   "cell_type": "markdown",
   "metadata": {},
   "source": [
    "### Pivot Table\n",
    "\n",
    "used to create a pivot table from a DataFrame. A pivot table is a summary of data grouped by one or more columns"
   ]
  },
  {
   "cell_type": "code",
   "execution_count": null,
   "metadata": {},
   "outputs": [],
   "source": [
    "pd.pivot_table(df, index=['city','day'], values=['temperature','windspeed'])"
   ]
  },
  {
   "cell_type": "markdown",
   "metadata": {},
   "source": [
    "### iloc() and loc() functions\n",
    "\n",
    "These functions are used to select rows and columns from a DataFrame by index or label. The iloc function is used to select rows and columns by integer-based indexing, while the loc function is used to select rows and columns by label-based indexing."
   ]
  },
  {
   "cell_type": "code",
   "execution_count": null,
   "metadata": {},
   "outputs": [],
   "source": [
    "df.iloc[4, 1]\n",
    "df.loc[4,'city'] \n",
    "# both functions ouput is 'mumbai'"
   ]
  },
  {
   "cell_type": "markdown",
   "metadata": {},
   "source": [
    "### Cut function\n",
    "\n",
    "Returns the specified range within which the value"
   ]
  },
  {
   "cell_type": "code",
   "execution_count": null,
   "metadata": {},
   "outputs": [],
   "source": [
    "pd.cut(x=df['temperature'], bins=[10,20,30,40,50,60,70,80,90])"
   ]
  }
 ],
 "metadata": {
  "kernelspec": {
   "display_name": "Python 3",
   "language": "python",
   "name": "python3"
  },
  "language_info": {
   "codemirror_mode": {
    "name": "ipython",
    "version": 3
   },
   "file_extension": ".py",
   "mimetype": "text/x-python",
   "name": "python",
   "nbconvert_exporter": "python",
   "pygments_lexer": "ipython3",
   "version": "3.11.4"
  },
  "orig_nbformat": 4
 },
 "nbformat": 4,
 "nbformat_minor": 2
}
